{
  "nbformat": 4,
  "nbformat_minor": 0,
  "metadata": {
    "colab": {
      "provenance": [],
      "authorship_tag": "ABX9TyPEr/165cnscTQfJYjTzsPa",
      "include_colab_link": true
    },
    "kernelspec": {
      "name": "python3",
      "display_name": "Python 3"
    },
    "language_info": {
      "name": "python"
    }
  },
  "cells": [
    {
      "cell_type": "markdown",
      "metadata": {
        "id": "view-in-github",
        "colab_type": "text"
      },
      "source": [
        "<a href=\"https://colab.research.google.com/github/Night3y3/CarPricePrediction/blob/main/CarPrice_tensorflow.ipynb\" target=\"_parent\"><img src=\"https://colab.research.google.com/assets/colab-badge.svg\" alt=\"Open In Colab\"/></a>"
      ]
    },
    {
      "cell_type": "code",
      "execution_count": 67,
      "metadata": {
        "id": "nyeDaiaxq1WP"
      },
      "outputs": [],
      "source": [
        "import tensorflow as tf # For model\n",
        "import pandas as pd  #For reading and processing\n",
        "import seaborn as sns #For visualisation\n",
        "from tensorflow.keras.layers import Dense, InputLayer\n",
        "from tensorflow.keras.losses import MeanSquaredError, MeanAbsoluteError\n",
        "from tensorflow.keras.metrics import RootMeanSquaredError\n",
        "from tensorflow.keras.optimizers import Adam\n",
        "import matplotlib.pyplot as plt\n",
        "import numpy as np\n"
      ]
    },
    {
      "cell_type": "code",
      "source": [
        "data = pd.read_csv(\"train.csv\")\n",
        "data.head()"
      ],
      "metadata": {
        "colab": {
          "base_uri": "https://localhost:8080/",
          "height": 206
        },
        "id": "CVC1olp9BsKK",
        "outputId": "360bc147-9cb9-4cb6-e495-970736f3b949"
      },
      "execution_count": 68,
      "outputs": [
        {
          "output_type": "execute_result",
          "data": {
            "text/plain": [
              "   v.id  on road old  on road now  years      km  rating  condition  economy  \\\n",
              "0     1       535651       798186      3   78945       1          2       14   \n",
              "1     2       591911       861056      6  117220       5          9        9   \n",
              "2     3       686990       770762      2  132538       2          8       15   \n",
              "3     4       573999       722381      4  101065       4          3       11   \n",
              "4     5       691388       811335      6   61559       3          9       12   \n",
              "\n",
              "   top speed  hp  torque  current price  \n",
              "0        177  73     123       351318.0  \n",
              "1        148  74      95       285001.5  \n",
              "2        181  53      97       215386.0  \n",
              "3        197  54     116       244295.5  \n",
              "4        160  53     105       531114.5  "
            ],
            "text/html": [
              "\n",
              "  <div id=\"df-1ff8181f-5d86-4558-a4df-957fec287a16\">\n",
              "    <div class=\"colab-df-container\">\n",
              "      <div>\n",
              "<style scoped>\n",
              "    .dataframe tbody tr th:only-of-type {\n",
              "        vertical-align: middle;\n",
              "    }\n",
              "\n",
              "    .dataframe tbody tr th {\n",
              "        vertical-align: top;\n",
              "    }\n",
              "\n",
              "    .dataframe thead th {\n",
              "        text-align: right;\n",
              "    }\n",
              "</style>\n",
              "<table border=\"1\" class=\"dataframe\">\n",
              "  <thead>\n",
              "    <tr style=\"text-align: right;\">\n",
              "      <th></th>\n",
              "      <th>v.id</th>\n",
              "      <th>on road old</th>\n",
              "      <th>on road now</th>\n",
              "      <th>years</th>\n",
              "      <th>km</th>\n",
              "      <th>rating</th>\n",
              "      <th>condition</th>\n",
              "      <th>economy</th>\n",
              "      <th>top speed</th>\n",
              "      <th>hp</th>\n",
              "      <th>torque</th>\n",
              "      <th>current price</th>\n",
              "    </tr>\n",
              "  </thead>\n",
              "  <tbody>\n",
              "    <tr>\n",
              "      <th>0</th>\n",
              "      <td>1</td>\n",
              "      <td>535651</td>\n",
              "      <td>798186</td>\n",
              "      <td>3</td>\n",
              "      <td>78945</td>\n",
              "      <td>1</td>\n",
              "      <td>2</td>\n",
              "      <td>14</td>\n",
              "      <td>177</td>\n",
              "      <td>73</td>\n",
              "      <td>123</td>\n",
              "      <td>351318.0</td>\n",
              "    </tr>\n",
              "    <tr>\n",
              "      <th>1</th>\n",
              "      <td>2</td>\n",
              "      <td>591911</td>\n",
              "      <td>861056</td>\n",
              "      <td>6</td>\n",
              "      <td>117220</td>\n",
              "      <td>5</td>\n",
              "      <td>9</td>\n",
              "      <td>9</td>\n",
              "      <td>148</td>\n",
              "      <td>74</td>\n",
              "      <td>95</td>\n",
              "      <td>285001.5</td>\n",
              "    </tr>\n",
              "    <tr>\n",
              "      <th>2</th>\n",
              "      <td>3</td>\n",
              "      <td>686990</td>\n",
              "      <td>770762</td>\n",
              "      <td>2</td>\n",
              "      <td>132538</td>\n",
              "      <td>2</td>\n",
              "      <td>8</td>\n",
              "      <td>15</td>\n",
              "      <td>181</td>\n",
              "      <td>53</td>\n",
              "      <td>97</td>\n",
              "      <td>215386.0</td>\n",
              "    </tr>\n",
              "    <tr>\n",
              "      <th>3</th>\n",
              "      <td>4</td>\n",
              "      <td>573999</td>\n",
              "      <td>722381</td>\n",
              "      <td>4</td>\n",
              "      <td>101065</td>\n",
              "      <td>4</td>\n",
              "      <td>3</td>\n",
              "      <td>11</td>\n",
              "      <td>197</td>\n",
              "      <td>54</td>\n",
              "      <td>116</td>\n",
              "      <td>244295.5</td>\n",
              "    </tr>\n",
              "    <tr>\n",
              "      <th>4</th>\n",
              "      <td>5</td>\n",
              "      <td>691388</td>\n",
              "      <td>811335</td>\n",
              "      <td>6</td>\n",
              "      <td>61559</td>\n",
              "      <td>3</td>\n",
              "      <td>9</td>\n",
              "      <td>12</td>\n",
              "      <td>160</td>\n",
              "      <td>53</td>\n",
              "      <td>105</td>\n",
              "      <td>531114.5</td>\n",
              "    </tr>\n",
              "  </tbody>\n",
              "</table>\n",
              "</div>\n",
              "      <button class=\"colab-df-convert\" onclick=\"convertToInteractive('df-1ff8181f-5d86-4558-a4df-957fec287a16')\"\n",
              "              title=\"Convert this dataframe to an interactive table.\"\n",
              "              style=\"display:none;\">\n",
              "        \n",
              "  <svg xmlns=\"http://www.w3.org/2000/svg\" height=\"24px\"viewBox=\"0 0 24 24\"\n",
              "       width=\"24px\">\n",
              "    <path d=\"M0 0h24v24H0V0z\" fill=\"none\"/>\n",
              "    <path d=\"M18.56 5.44l.94 2.06.94-2.06 2.06-.94-2.06-.94-.94-2.06-.94 2.06-2.06.94zm-11 1L8.5 8.5l.94-2.06 2.06-.94-2.06-.94L8.5 2.5l-.94 2.06-2.06.94zm10 10l.94 2.06.94-2.06 2.06-.94-2.06-.94-.94-2.06-.94 2.06-2.06.94z\"/><path d=\"M17.41 7.96l-1.37-1.37c-.4-.4-.92-.59-1.43-.59-.52 0-1.04.2-1.43.59L10.3 9.45l-7.72 7.72c-.78.78-.78 2.05 0 2.83L4 21.41c.39.39.9.59 1.41.59.51 0 1.02-.2 1.41-.59l7.78-7.78 2.81-2.81c.8-.78.8-2.07 0-2.86zM5.41 20L4 18.59l7.72-7.72 1.47 1.35L5.41 20z\"/>\n",
              "  </svg>\n",
              "      </button>\n",
              "      \n",
              "  <style>\n",
              "    .colab-df-container {\n",
              "      display:flex;\n",
              "      flex-wrap:wrap;\n",
              "      gap: 12px;\n",
              "    }\n",
              "\n",
              "    .colab-df-convert {\n",
              "      background-color: #E8F0FE;\n",
              "      border: none;\n",
              "      border-radius: 50%;\n",
              "      cursor: pointer;\n",
              "      display: none;\n",
              "      fill: #1967D2;\n",
              "      height: 32px;\n",
              "      padding: 0 0 0 0;\n",
              "      width: 32px;\n",
              "    }\n",
              "\n",
              "    .colab-df-convert:hover {\n",
              "      background-color: #E2EBFA;\n",
              "      box-shadow: 0px 1px 2px rgba(60, 64, 67, 0.3), 0px 1px 3px 1px rgba(60, 64, 67, 0.15);\n",
              "      fill: #174EA6;\n",
              "    }\n",
              "\n",
              "    [theme=dark] .colab-df-convert {\n",
              "      background-color: #3B4455;\n",
              "      fill: #D2E3FC;\n",
              "    }\n",
              "\n",
              "    [theme=dark] .colab-df-convert:hover {\n",
              "      background-color: #434B5C;\n",
              "      box-shadow: 0px 1px 3px 1px rgba(0, 0, 0, 0.15);\n",
              "      filter: drop-shadow(0px 1px 2px rgba(0, 0, 0, 0.3));\n",
              "      fill: #FFFFFF;\n",
              "    }\n",
              "  </style>\n",
              "\n",
              "      <script>\n",
              "        const buttonEl =\n",
              "          document.querySelector('#df-1ff8181f-5d86-4558-a4df-957fec287a16 button.colab-df-convert');\n",
              "        buttonEl.style.display =\n",
              "          google.colab.kernel.accessAllowed ? 'block' : 'none';\n",
              "\n",
              "        async function convertToInteractive(key) {\n",
              "          const element = document.querySelector('#df-1ff8181f-5d86-4558-a4df-957fec287a16');\n",
              "          const dataTable =\n",
              "            await google.colab.kernel.invokeFunction('convertToInteractive',\n",
              "                                                     [key], {});\n",
              "          if (!dataTable) return;\n",
              "\n",
              "          const docLinkHtml = 'Like what you see? Visit the ' +\n",
              "            '<a target=\"_blank\" href=https://colab.research.google.com/notebooks/data_table.ipynb>data table notebook</a>'\n",
              "            + ' to learn more about interactive tables.';\n",
              "          element.innerHTML = '';\n",
              "          dataTable['output_type'] = 'display_data';\n",
              "          await google.colab.output.renderOutput(dataTable, element);\n",
              "          const docLink = document.createElement('div');\n",
              "          docLink.innerHTML = docLinkHtml;\n",
              "          element.appendChild(docLink);\n",
              "        }\n",
              "      </script>\n",
              "    </div>\n",
              "  </div>\n",
              "  "
            ]
          },
          "metadata": {},
          "execution_count": 68
        }
      ]
    },
    {
      "cell_type": "code",
      "source": [
        "data.shape"
      ],
      "metadata": {
        "colab": {
          "base_uri": "https://localhost:8080/"
        },
        "id": "tm02GcCaBwoY",
        "outputId": "973cdbe1-8615-405d-bdd0-31b522094c8e"
      },
      "execution_count": 69,
      "outputs": [
        {
          "output_type": "execute_result",
          "data": {
            "text/plain": [
              "(1000, 12)"
            ]
          },
          "metadata": {},
          "execution_count": 69
        }
      ]
    },
    {
      "cell_type": "code",
      "source": [
        "tensor_data = tf.constant(data)\n",
        "tensor_data = tf.cast(tensor_data, tf.float32)\n",
        "print(tensor_data)"
      ],
      "metadata": {
        "colab": {
          "base_uri": "https://localhost:8080/"
        },
        "id": "R0mgjReNBy5h",
        "outputId": "6eefb23e-2682-49be-9979-c0f9c648a18d"
      },
      "execution_count": 70,
      "outputs": [
        {
          "output_type": "stream",
          "name": "stdout",
          "text": [
            "tf.Tensor(\n",
            "[[1.000000e+00 5.356510e+05 7.981860e+05 ... 7.300000e+01 1.230000e+02\n",
            "  3.513180e+05]\n",
            " [2.000000e+00 5.919110e+05 8.610560e+05 ... 7.400000e+01 9.500000e+01\n",
            "  2.850015e+05]\n",
            " [3.000000e+00 6.869900e+05 7.707620e+05 ... 5.300000e+01 9.700000e+01\n",
            "  2.153860e+05]\n",
            " ...\n",
            " [9.980000e+02 6.463440e+05 8.427330e+05 ... 1.130000e+02 8.900000e+01\n",
            "  4.058710e+05]\n",
            " [9.990000e+02 5.355590e+05 7.324390e+05 ... 1.120000e+02 1.280000e+02\n",
            "  7.439800e+04]\n",
            " [1.000000e+03 5.901050e+05 7.797430e+05 ... 9.900000e+01 9.600000e+01\n",
            "  4.149385e+05]], shape=(1000, 12), dtype=float32)\n"
          ]
        }
      ]
    },
    {
      "cell_type": "code",
      "source": [
        "tensor_data = tf.random.shuffle(tensor_data)\n",
        "print(tensor_data)"
      ],
      "metadata": {
        "colab": {
          "base_uri": "https://localhost:8080/"
        },
        "id": "JLG0EVq8B1WJ",
        "outputId": "65d48bb1-538d-49be-dacc-e4f862753f79"
      },
      "execution_count": 71,
      "outputs": [
        {
          "output_type": "stream",
          "name": "stdout",
          "text": [
            "tf.Tensor(\n",
            "[[3.670000e+02 5.483690e+05 7.174410e+05 ... 9.400000e+01 1.210000e+02\n",
            "  3.607375e+05]\n",
            " [5.360000e+02 5.390630e+05 8.536550e+05 ... 1.010000e+02 9.600000e+01\n",
            "  3.409615e+05]\n",
            " [4.830000e+02 6.684340e+05 7.988190e+05 ... 1.000000e+02 1.380000e+02\n",
            "  5.080870e+05]\n",
            " ...\n",
            " [2.250000e+02 5.946960e+05 8.551050e+05 ... 5.600000e+01 1.380000e+02\n",
            "  4.066575e+05]\n",
            " [3.730000e+02 5.657190e+05 7.670520e+05 ... 1.050000e+02 6.900000e+01\n",
            "  4.063495e+05]\n",
            " [2.730000e+02 5.501350e+05 7.469670e+05 ... 1.080000e+02 7.500000e+01\n",
            "  4.581390e+05]], shape=(1000, 12), dtype=float32)\n"
          ]
        }
      ]
    },
    {
      "cell_type": "code",
      "source": [
        "X = tensor_data[:,3:-1]\n",
        "print(X.shape)"
      ],
      "metadata": {
        "colab": {
          "base_uri": "https://localhost:8080/"
        },
        "id": "_WjPNrVFB4H8",
        "outputId": "220f4a40-06bf-4642-b298-b13d5dee6761"
      },
      "execution_count": 72,
      "outputs": [
        {
          "output_type": "stream",
          "name": "stdout",
          "text": [
            "(1000, 8)\n"
          ]
        }
      ]
    },
    {
      "cell_type": "code",
      "source": [
        "y = tensor_data[:,-1]\n",
        "y = tf.expand_dims(y, axis=-1)\n",
        "print(y.shape)"
      ],
      "metadata": {
        "colab": {
          "base_uri": "https://localhost:8080/"
        },
        "id": "tnX_Hwnjgsau",
        "outputId": "48071c1d-a240-4d81-9ca6-62a19513905f"
      },
      "execution_count": 88,
      "outputs": [
        {
          "output_type": "stream",
          "name": "stdout",
          "text": [
            "(1000, 1)\n"
          ]
        }
      ]
    },
    {
      "cell_type": "code",
      "source": [
        "TRAIN_RATIO = 0.8\n",
        "VALIDATION_RATIO = 0.1\n",
        "TEST_RATIO = 0.1\n",
        "DATASET_SIZE = len(X)"
      ],
      "metadata": {
        "id": "0m--qbyWa6by"
      },
      "execution_count": 89,
      "outputs": []
    },
    {
      "cell_type": "code",
      "source": [
        "# Training Set\n",
        "X_train = X[:int(DATASET_SIZE*TRAIN_RATIO)]\n",
        "y_train = y[:int(DATASET_SIZE*TRAIN_RATIO)]\n",
        "print(X_train.shape)\n",
        "print(y_train.shape)"
      ],
      "metadata": {
        "colab": {
          "base_uri": "https://localhost:8080/"
        },
        "id": "u1J64jzebOS9",
        "outputId": "b2819e83-a8d9-46fc-cc67-aa17e9be88e3"
      },
      "execution_count": 90,
      "outputs": [
        {
          "output_type": "stream",
          "name": "stdout",
          "text": [
            "(800, 8)\n",
            "(800, 1)\n"
          ]
        }
      ]
    },
    {
      "cell_type": "code",
      "source": [
        "train_dataset = tf.data.Dataset.from_tensor_slices((X_train,y_train))\n",
        "train_dataset =train_dataset.shuffle(buffer_size=8,reshuffle_each_iteration= True).batch(32).prefetch(tf.data.AUTOTUNE)"
      ],
      "metadata": {
        "id": "Y-iXYNxx9_aN"
      },
      "execution_count": 91,
      "outputs": []
    },
    {
      "cell_type": "code",
      "source": [
        "for x,y in train_dataset:\n",
        "  print(x,y)\n",
        "  break"
      ],
      "metadata": {
        "colab": {
          "base_uri": "https://localhost:8080/"
        },
        "id": "4umNnYEo_NLN",
        "outputId": "a330688f-ae28-408e-cd8d-08e45263372b"
      },
      "execution_count": 78,
      "outputs": [
        {
          "output_type": "stream",
          "name": "stdout",
          "text": [
            "tf.Tensor(\n",
            "[[7.00000e+00 6.09440e+04 4.00000e+00 6.00000e+00 1.10000e+01 1.51000e+02\n",
            "  1.16000e+02 1.11000e+02]\n",
            " [6.00000e+00 8.53980e+04 1.00000e+00 1.00000e+00 1.30000e+01 1.39000e+02\n",
            "  1.08000e+02 7.70000e+01]\n",
            " [4.00000e+00 8.59110e+04 1.00000e+00 3.00000e+00 1.30000e+01 1.45000e+02\n",
            "  7.90000e+01 7.80000e+01]\n",
            " [5.00000e+00 6.34480e+04 1.00000e+00 9.00000e+00 1.30000e+01 1.73000e+02\n",
            "  1.00000e+02 1.38000e+02]\n",
            " [6.00000e+00 1.23166e+05 3.00000e+00 6.00000e+00 1.40000e+01 1.91000e+02\n",
            "  1.01000e+02 1.21000e+02]\n",
            " [4.00000e+00 5.31370e+04 3.00000e+00 8.00000e+00 8.00000e+00 1.91000e+02\n",
            "  1.09000e+02 1.21000e+02]\n",
            " [5.00000e+00 9.59210e+04 2.00000e+00 9.00000e+00 1.50000e+01 1.95000e+02\n",
            "  1.01000e+02 9.60000e+01]\n",
            " [5.00000e+00 1.03827e+05 5.00000e+00 6.00000e+00 1.10000e+01 1.51000e+02\n",
            "  7.20000e+01 1.02000e+02]\n",
            " [6.00000e+00 1.04912e+05 2.00000e+00 1.00000e+00 1.10000e+01 1.76000e+02\n",
            "  7.00000e+01 1.37000e+02]\n",
            " [4.00000e+00 9.36300e+04 4.00000e+00 8.00000e+00 1.50000e+01 1.82000e+02\n",
            "  9.60000e+01 1.35000e+02]\n",
            " [4.00000e+00 9.56910e+04 2.00000e+00 2.00000e+00 9.00000e+00 1.68000e+02\n",
            "  6.40000e+01 1.24000e+02]\n",
            " [3.00000e+00 1.27775e+05 5.00000e+00 4.00000e+00 9.00000e+00 1.82000e+02\n",
            "  1.20000e+02 1.29000e+02]\n",
            " [6.00000e+00 1.26851e+05 3.00000e+00 1.00000e+01 9.00000e+00 1.82000e+02\n",
            "  9.50000e+01 9.30000e+01]\n",
            " [3.00000e+00 6.82470e+04 3.00000e+00 7.00000e+00 1.30000e+01 1.89000e+02\n",
            "  1.03000e+02 1.07000e+02]\n",
            " [3.00000e+00 1.13292e+05 2.00000e+00 5.00000e+00 8.00000e+00 1.47000e+02\n",
            "  1.18000e+02 1.40000e+02]\n",
            " [4.00000e+00 6.95580e+04 2.00000e+00 2.00000e+00 1.00000e+01 1.40000e+02\n",
            "  6.60000e+01 1.15000e+02]\n",
            " [5.00000e+00 6.78360e+04 4.00000e+00 1.00000e+00 8.00000e+00 1.74000e+02\n",
            "  9.40000e+01 1.21000e+02]\n",
            " [3.00000e+00 6.04140e+04 3.00000e+00 5.00000e+00 1.20000e+01 1.64000e+02\n",
            "  1.10000e+02 7.20000e+01]\n",
            " [4.00000e+00 7.97990e+04 4.00000e+00 6.00000e+00 1.40000e+01 1.66000e+02\n",
            "  8.40000e+01 1.21000e+02]\n",
            " [4.00000e+00 5.69850e+04 4.00000e+00 1.00000e+01 1.50000e+01 1.45000e+02\n",
            "  1.07000e+02 7.30000e+01]\n",
            " [5.00000e+00 5.52030e+04 5.00000e+00 6.00000e+00 1.20000e+01 1.79000e+02\n",
            "  7.70000e+01 9.60000e+01]\n",
            " [6.00000e+00 6.81880e+04 4.00000e+00 7.00000e+00 1.00000e+01 1.86000e+02\n",
            "  8.60000e+01 1.35000e+02]\n",
            " [2.00000e+00 8.05030e+04 1.00000e+00 4.00000e+00 9.00000e+00 1.68000e+02\n",
            "  1.01000e+02 1.36000e+02]\n",
            " [7.00000e+00 5.57890e+04 3.00000e+00 7.00000e+00 1.10000e+01 1.62000e+02\n",
            "  8.10000e+01 1.05000e+02]\n",
            " [7.00000e+00 1.32498e+05 1.00000e+00 5.00000e+00 1.10000e+01 1.64000e+02\n",
            "  6.90000e+01 9.40000e+01]\n",
            " [7.00000e+00 1.13280e+05 4.00000e+00 5.00000e+00 1.10000e+01 1.79000e+02\n",
            "  8.50000e+01 1.02000e+02]\n",
            " [7.00000e+00 1.25676e+05 2.00000e+00 3.00000e+00 1.50000e+01 1.64000e+02\n",
            "  8.70000e+01 9.30000e+01]\n",
            " [2.00000e+00 7.02460e+04 4.00000e+00 2.00000e+00 1.30000e+01 1.87000e+02\n",
            "  1.18000e+02 1.04000e+02]\n",
            " [3.00000e+00 1.23324e+05 2.00000e+00 4.00000e+00 8.00000e+00 1.46000e+02\n",
            "  1.04000e+02 1.12000e+02]\n",
            " [3.00000e+00 1.15636e+05 4.00000e+00 8.00000e+00 1.20000e+01 1.42000e+02\n",
            "  1.05000e+02 9.30000e+01]\n",
            " [6.00000e+00 1.45766e+05 1.00000e+00 6.00000e+00 8.00000e+00 1.47000e+02\n",
            "  1.14000e+02 6.90000e+01]\n",
            " [6.00000e+00 8.50700e+04 1.00000e+00 1.00000e+01 1.10000e+01 1.58000e+02\n",
            "  1.02000e+02 1.30000e+02]], shape=(32, 8), dtype=float32) tf.Tensor(\n",
            "[[489368. ]\n",
            " [271956. ]\n",
            " [337917. ]\n",
            " [508087. ]\n",
            " [264084.5]\n",
            " [518845. ]\n",
            " [340961.5]\n",
            " [284462.5]\n",
            " [305589. ]\n",
            " [364898. ]\n",
            " [322368. ]\n",
            " [187009. ]\n",
            " [224359.5]\n",
            " [424305. ]\n",
            " [260231. ]\n",
            " [479031. ]\n",
            " [360737.5]\n",
            " [482353.5]\n",
            " [353318. ]\n",
            " [496293.5]\n",
            " [505336.5]\n",
            " [408405.5]\n",
            " [352284.5]\n",
            " [512885.5]\n",
            " [174399. ]\n",
            " [206678. ]\n",
            " [195854. ]\n",
            " [409312.5]\n",
            " [242950. ]\n",
            " [240296.5]\n",
            " [ 53040. ]\n",
            " [459833.5]], shape=(32, 1), dtype=float32)\n"
          ]
        }
      ]
    },
    {
      "cell_type": "code",
      "source": [
        "# Validation Set\n",
        "X_val = X[int(DATASET_SIZE*TRAIN_RATIO):int(DATASET_SIZE*(TRAIN_RATIO+VALIDATION_RATIO))]\n",
        "y_val = y[int(DATASET_SIZE*TRAIN_RATIO):int(DATASET_SIZE*(TRAIN_RATIO+VALIDATION_RATIO))]\n",
        "print(X_val.shape)\n",
        "print(y_val.shape)"
      ],
      "metadata": {
        "colab": {
          "base_uri": "https://localhost:8080/"
        },
        "id": "uj4ACKyIb9ga",
        "outputId": "3f9fedb8-aa3e-4f48-c6ca-88f4aede83ff"
      },
      "execution_count": 92,
      "outputs": [
        {
          "output_type": "stream",
          "name": "stdout",
          "text": [
            "(100, 8)\n",
            "(100, 1)\n"
          ]
        }
      ]
    },
    {
      "cell_type": "code",
      "source": [
        "val_dataset = tf.data.Dataset.from_tensor_slices((X_val,y_val))\n",
        "val_dataset =train_dataset.shuffle(buffer_size=8,reshuffle_each_iteration= True).batch(32).prefetch(tf.data.AUTOTUNE)"
      ],
      "metadata": {
        "id": "dHHk10tr_c4O"
      },
      "execution_count": 93,
      "outputs": []
    },
    {
      "cell_type": "code",
      "source": [
        "X_test = X[int(DATASET_SIZE*(TRAIN_RATIO+VALIDATION_RATIO)):]\n",
        "y_test = y[int(DATASET_SIZE*(TRAIN_RATIO+VALIDATION_RATIO)):]\n",
        "print(X_test.shape)\n",
        "print(y_test.shape)"
      ],
      "metadata": {
        "colab": {
          "base_uri": "https://localhost:8080/"
        },
        "id": "qJe5d3OYcaIX",
        "outputId": "b156b4eb-736e-430d-9ee2-ea233d947f0d"
      },
      "execution_count": 94,
      "outputs": [
        {
          "output_type": "stream",
          "name": "stdout",
          "text": [
            "(100, 8)\n",
            "(100, 1)\n"
          ]
        }
      ]
    },
    {
      "cell_type": "code",
      "source": [
        "test_dataset = tf.data.Dataset.from_tensor_slices((X_test,y_test))\n",
        "test_dataset =train_dataset.shuffle(buffer_size=8,reshuffle_each_iteration= True).batch(32).prefetch(tf.data.AUTOTUNE)"
      ],
      "metadata": {
        "id": "ojJf6Vrn_r7x"
      },
      "execution_count": 95,
      "outputs": []
    },
    {
      "cell_type": "code",
      "source": [
        "normalizer = tf.keras.layers.Normalization()\n",
        "# X_normalized = tf.constant([[3,4,5],[4,5,6]])  use it as example understanding\n",
        "normalizer.adapt(X_train)\n",
        "normalizer(X)[:5]"
      ],
      "metadata": {
        "colab": {
          "base_uri": "https://localhost:8080/"
        },
        "id": "9UDakyiEB-zh",
        "outputId": "225690e9-8e2e-43bc-9dbb-4aeca8ebb39b"
      },
      "execution_count": 99,
      "outputs": [
        {
          "output_type": "execute_result",
          "data": {
            "text/plain": [
              "<tf.Tensor: shape=(5, 8), dtype=float32, numpy=\n",
              "array([[ 0.28457686, -1.089245  ,  0.7655416 , -1.6570115 , -1.6049801 ,\n",
              "         0.36549738,  0.44407907,  0.8259177 ],\n",
              "       [ 0.28457686, -0.12141394, -0.6587218 ,  1.1983668 ,  1.5060934 ,\n",
              "         1.4604214 ,  0.78219455, -0.35649735],\n",
              "       [ 0.28457686, -1.2404588 , -1.3708534 ,  1.1983668 ,  0.6172152 ,\n",
              "         0.31335813,  0.7338923 ,  1.62996   ],\n",
              "       [-0.294715  , -1.595784  ,  0.05340991,  0.8414445 , -1.6049801 ,\n",
              "         1.2518644 ,  1.1686122 ,  0.8259177 ],\n",
              "       [ 0.8638688 , -0.48404473, -1.3708534 , -1.6570115 ,  0.6172152 ,\n",
              "        -1.459376  ,  1.12031   , -1.2551328 ]], dtype=float32)>"
            ]
          },
          "metadata": {},
          "execution_count": 99
        }
      ]
    },
    {
      "cell_type": "code",
      "source": [
        "model = tf.keras.Sequential([\n",
        "    InputLayer(input_shape=(8,)),\n",
        "    normalizer,\n",
        "    Dense(128, activation = 'relu'),\n",
        "    Dense(128, activation = 'relu'),\n",
        "    Dense(128, activation = 'relu'),\n",
        "    # Dense(128, activation = 'relu'),\n",
        "    Dense(1),\n",
        "])\n",
        "model.summary()\n"
      ],
      "metadata": {
        "colab": {
          "base_uri": "https://localhost:8080/"
        },
        "id": "47Rj1KFXCCp1",
        "outputId": "5de6540a-b837-4377-a62f-2f33e0eb3ea1"
      },
      "execution_count": 100,
      "outputs": [
        {
          "output_type": "stream",
          "name": "stdout",
          "text": [
            "Model: \"sequential_5\"\n",
            "_________________________________________________________________\n",
            " Layer (type)                Output Shape              Param #   \n",
            "=================================================================\n",
            " normalization_1 (Normalizat  (None, 8)                17        \n",
            " ion)                                                            \n",
            "                                                                 \n",
            " dense_19 (Dense)            (None, 128)               1152      \n",
            "                                                                 \n",
            " dense_20 (Dense)            (None, 128)               16512     \n",
            "                                                                 \n",
            " dense_21 (Dense)            (None, 128)               16512     \n",
            "                                                                 \n",
            " dense_22 (Dense)            (None, 1)                 129       \n",
            "                                                                 \n",
            "=================================================================\n",
            "Total params: 34,322\n",
            "Trainable params: 34,305\n",
            "Non-trainable params: 17\n",
            "_________________________________________________________________\n"
          ]
        }
      ]
    },
    {
      "cell_type": "code",
      "source": [
        "tf.keras.utils.plot_model(model, to_file = \"model.png\", show_shapes=True)"
      ],
      "metadata": {
        "colab": {
          "base_uri": "https://localhost:8080/",
          "height": 644
        },
        "id": "F2sJMlStCFyy",
        "outputId": "6f6f4793-6e18-460f-d077-b1b92dabab22"
      },
      "execution_count": 101,
      "outputs": [
        {
          "output_type": "execute_result",
          "data": {
            "image/png": "[encoded data removed]",
            "text/plain": [
              "<IPython.core.display.Image object>"
            ]
          },
          "metadata": {},
          "execution_count": 101
        }
      ]
    },
    {
      "cell_type": "code",
      "source": [
        "model.compile(optimizer= Adam(learning_rate=0.1),\n",
        "              loss=MeanAbsoluteError(),\n",
        "              metrics=RootMeanSquaredError()\n",
        "              )"
      ],
      "metadata": {
        "id": "cslDtkhwCJ3f"
      },
      "execution_count": 102,
      "outputs": []
    },
    {
      "cell_type": "code",
      "source": [
        "history = model.fit(train_dataset,validation_data=val_dataset, epochs=100, verbose=1)"
      ],
      "metadata": {
        "colab": {
          "base_uri": "https://localhost:8080/"
        },
        "id": "XXpeLGL6UQUi",
        "outputId": "c5d6640d-4f39-4907-862a-7de95678a624"
      },
      "execution_count": 103,
      "outputs": [
        {
          "output_type": "stream",
          "name": "stdout",
          "text": [
            "Epoch 1/100\n",
            "25/25 [==============================] - 2s 12ms/step - loss: 147958.3750 - root_mean_squared_error: 202420.0469 - val_loss: 59618.9688 - val_root_mean_squared_error: 72917.2891\n",
            "Epoch 2/100\n",
            "25/25 [==============================] - 0s 4ms/step - loss: 48469.3281 - root_mean_squared_error: 60420.3398 - val_loss: 49877.5195 - val_root_mean_squared_error: 61680.5469\n",
            "Epoch 3/100\n",
            "25/25 [==============================] - 0s 4ms/step - loss: 43111.2969 - root_mean_squared_error: 54051.5039 - val_loss: 49430.8984 - val_root_mean_squared_error: 61103.0234\n",
            "Epoch 4/100\n",
            "25/25 [==============================] - 0s 4ms/step - loss: 46106.1719 - root_mean_squared_error: 57259.6289 - val_loss: 55139.7461 - val_root_mean_squared_error: 66771.5312\n",
            "Epoch 5/100\n",
            "25/25 [==============================] - 0s 3ms/step - loss: 44365.7461 - root_mean_squared_error: 55725.0820 - val_loss: 40083.7734 - val_root_mean_squared_error: 49998.4805\n",
            "Epoch 6/100\n",
            "25/25 [==============================] - 0s 4ms/step - loss: 40779.3711 - root_mean_squared_error: 51168.3984 - val_loss: 38631.9297 - val_root_mean_squared_error: 47902.1172\n",
            "Epoch 7/100\n",
            "25/25 [==============================] - 0s 3ms/step - loss: 45856.7617 - root_mean_squared_error: 57120.0586 - val_loss: 38482.1836 - val_root_mean_squared_error: 47780.8320\n",
            "Epoch 8/100\n",
            "25/25 [==============================] - 0s 4ms/step - loss: 39658.1797 - root_mean_squared_error: 50159.7812 - val_loss: 40592.7031 - val_root_mean_squared_error: 50130.0547\n",
            "Epoch 9/100\n",
            "25/25 [==============================] - 0s 3ms/step - loss: 42208.7461 - root_mean_squared_error: 53688.7109 - val_loss: 37009.0234 - val_root_mean_squared_error: 46031.7969\n",
            "Epoch 10/100\n",
            "25/25 [==============================] - 0s 4ms/step - loss: 37324.3789 - root_mean_squared_error: 47064.7891 - val_loss: 38156.4453 - val_root_mean_squared_error: 47828.3555\n",
            "Epoch 11/100\n",
            "25/25 [==============================] - 0s 4ms/step - loss: 39705.7344 - root_mean_squared_error: 49756.0273 - val_loss: 45021.4844 - val_root_mean_squared_error: 55570.0312\n",
            "Epoch 12/100\n",
            "25/25 [==============================] - 0s 3ms/step - loss: 40187.4766 - root_mean_squared_error: 50466.9609 - val_loss: 37688.0742 - val_root_mean_squared_error: 46947.7070\n",
            "Epoch 13/100\n",
            "25/25 [==============================] - 0s 4ms/step - loss: 40177.5586 - root_mean_squared_error: 51130.7695 - val_loss: 42499.2305 - val_root_mean_squared_error: 52477.5781\n",
            "Epoch 14/100\n",
            "25/25 [==============================] - 0s 3ms/step - loss: 39837.7656 - root_mean_squared_error: 49966.2617 - val_loss: 37150.9102 - val_root_mean_squared_error: 45986.0430\n",
            "Epoch 15/100\n",
            "25/25 [==============================] - 0s 3ms/step - loss: 46864.5898 - root_mean_squared_error: 60047.7227 - val_loss: 38775.7344 - val_root_mean_squared_error: 48126.3828\n",
            "Epoch 16/100\n",
            "25/25 [==============================] - 0s 3ms/step - loss: 37251.5586 - root_mean_squared_error: 46461.2773 - val_loss: 34792.8711 - val_root_mean_squared_error: 43134.7148\n",
            "Epoch 17/100\n",
            "25/25 [==============================] - 0s 3ms/step - loss: 42794.1016 - root_mean_squared_error: 53898.1641 - val_loss: 34422.0586 - val_root_mean_squared_error: 43111.5742\n",
            "Epoch 18/100\n",
            "25/25 [==============================] - 0s 3ms/step - loss: 37114.5469 - root_mean_squared_error: 46837.5781 - val_loss: 41011.3867 - val_root_mean_squared_error: 50833.9258\n",
            "Epoch 19/100\n",
            "25/25 [==============================] - 0s 3ms/step - loss: 47690.3789 - root_mean_squared_error: 60167.9688 - val_loss: 48179.3750 - val_root_mean_squared_error: 59485.0312\n",
            "Epoch 20/100\n",
            "25/25 [==============================] - 0s 3ms/step - loss: 41121.1016 - root_mean_squared_error: 51605.9258 - val_loss: 35290.5938 - val_root_mean_squared_error: 43994.4570\n",
            "Epoch 21/100\n",
            "25/25 [==============================] - 0s 4ms/step - loss: 39546.5078 - root_mean_squared_error: 49126.1484 - val_loss: 37415.3945 - val_root_mean_squared_error: 46721.5195\n",
            "Epoch 22/100\n",
            "25/25 [==============================] - 0s 3ms/step - loss: 38326.2109 - root_mean_squared_error: 48119.1172 - val_loss: 36199.4023 - val_root_mean_squared_error: 44705.6172\n",
            "Epoch 23/100\n",
            "25/25 [==============================] - 0s 3ms/step - loss: 38705.0781 - root_mean_squared_error: 48537.2031 - val_loss: 35941.6133 - val_root_mean_squared_error: 44396.6055\n",
            "Epoch 24/100\n",
            "25/25 [==============================] - 0s 3ms/step - loss: 37195.0938 - root_mean_squared_error: 46698.4336 - val_loss: 34953.8242 - val_root_mean_squared_error: 43490.2773\n",
            "Epoch 25/100\n",
            "25/25 [==============================] - 0s 3ms/step - loss: 35506.9492 - root_mean_squared_error: 45089.6406 - val_loss: 38420.3125 - val_root_mean_squared_error: 47785.1445\n",
            "Epoch 26/100\n",
            "25/25 [==============================] - 0s 3ms/step - loss: 38662.3516 - root_mean_squared_error: 48199.0898 - val_loss: 33351.2188 - val_root_mean_squared_error: 41586.9141\n",
            "Epoch 27/100\n",
            "25/25 [==============================] - 0s 3ms/step - loss: 35903.8008 - root_mean_squared_error: 45224.9219 - val_loss: 36591.6562 - val_root_mean_squared_error: 45272.8945\n",
            "Epoch 28/100\n",
            "25/25 [==============================] - 0s 3ms/step - loss: 38093.9648 - root_mean_squared_error: 47510.1719 - val_loss: 36025.3438 - val_root_mean_squared_error: 44662.2266\n",
            "Epoch 29/100\n",
            "25/25 [==============================] - 0s 3ms/step - loss: 35810.1875 - root_mean_squared_error: 44849.9688 - val_loss: 36071.4883 - val_root_mean_squared_error: 44741.2773\n",
            "Epoch 30/100\n",
            "25/25 [==============================] - 0s 3ms/step - loss: 37781.3711 - root_mean_squared_error: 47163.0703 - val_loss: 33787.1367 - val_root_mean_squared_error: 41985.3320\n",
            "Epoch 31/100\n",
            "25/25 [==============================] - 0s 3ms/step - loss: 38223.3984 - root_mean_squared_error: 48417.3008 - val_loss: 34374.1641 - val_root_mean_squared_error: 42715.8477\n",
            "Epoch 32/100\n",
            "25/25 [==============================] - 0s 3ms/step - loss: 35784.8594 - root_mean_squared_error: 44768.4531 - val_loss: 32788.1094 - val_root_mean_squared_error: 40945.2344\n",
            "Epoch 33/100\n",
            "25/25 [==============================] - 0s 3ms/step - loss: 37774.2109 - root_mean_squared_error: 47819.2578 - val_loss: 33805.2539 - val_root_mean_squared_error: 42142.3828\n",
            "Epoch 34/100\n",
            "25/25 [==============================] - 0s 5ms/step - loss: 36303.9688 - root_mean_squared_error: 45216.1250 - val_loss: 35263.7461 - val_root_mean_squared_error: 43636.2891\n",
            "Epoch 35/100\n",
            "25/25 [==============================] - 0s 4ms/step - loss: 38295.3555 - root_mean_squared_error: 48172.4062 - val_loss: 35782.0586 - val_root_mean_squared_error: 44370.3789\n",
            "Epoch 36/100\n",
            "25/25 [==============================] - 0s 3ms/step - loss: 36595.3555 - root_mean_squared_error: 45627.0625 - val_loss: 35296.2969 - val_root_mean_squared_error: 43795.1680\n",
            "Epoch 37/100\n",
            "25/25 [==============================] - 0s 3ms/step - loss: 35339.9375 - root_mean_squared_error: 44351.2891 - val_loss: 32652.4648 - val_root_mean_squared_error: 40728.4453\n",
            "Epoch 38/100\n",
            "25/25 [==============================] - 0s 5ms/step - loss: 36532.8438 - root_mean_squared_error: 45047.5508 - val_loss: 34124.3320 - val_root_mean_squared_error: 42124.9766\n",
            "Epoch 39/100\n",
            "25/25 [==============================] - 0s 5ms/step - loss: 35021.9258 - root_mean_squared_error: 43742.9961 - val_loss: 34549.4648 - val_root_mean_squared_error: 42721.9688\n",
            "Epoch 40/100\n",
            "25/25 [==============================] - 0s 5ms/step - loss: 35864.0391 - root_mean_squared_error: 44387.1250 - val_loss: 37319.0664 - val_root_mean_squared_error: 46169.1875\n",
            "Epoch 41/100\n",
            "25/25 [==============================] - 0s 5ms/step - loss: 39433.0664 - root_mean_squared_error: 49545.4961 - val_loss: 37566.1016 - val_root_mean_squared_error: 46555.9023\n",
            "Epoch 42/100\n",
            "25/25 [==============================] - 0s 5ms/step - loss: 35552.8594 - root_mean_squared_error: 44338.6445 - val_loss: 33434.1992 - val_root_mean_squared_error: 41295.7734\n",
            "Epoch 43/100\n",
            "25/25 [==============================] - 0s 5ms/step - loss: 36054.2734 - root_mean_squared_error: 45231.2500 - val_loss: 34178.9648 - val_root_mean_squared_error: 42315.5625\n",
            "Epoch 44/100\n",
            "25/25 [==============================] - 0s 5ms/step - loss: 37829.1719 - root_mean_squared_error: 47008.0039 - val_loss: 33427.4062 - val_root_mean_squared_error: 41378.3203\n",
            "Epoch 45/100\n",
            "25/25 [==============================] - 0s 5ms/step - loss: 35940.2500 - root_mean_squared_error: 44889.4141 - val_loss: 33996.3203 - val_root_mean_squared_error: 42329.0391\n",
            "Epoch 46/100\n",
            "25/25 [==============================] - 0s 5ms/step - loss: 36824.2617 - root_mean_squared_error: 45717.8750 - val_loss: 33872.8008 - val_root_mean_squared_error: 41802.1953\n",
            "Epoch 47/100\n",
            "25/25 [==============================] - 0s 5ms/step - loss: 34908.6719 - root_mean_squared_error: 43215.8750 - val_loss: 32294.7480 - val_root_mean_squared_error: 40188.0234\n",
            "Epoch 48/100\n",
            "25/25 [==============================] - 0s 5ms/step - loss: 37893.9531 - root_mean_squared_error: 47541.7383 - val_loss: 34173.8750 - val_root_mean_squared_error: 42397.9609\n",
            "Epoch 49/100\n",
            "25/25 [==============================] - 0s 5ms/step - loss: 35772.1758 - root_mean_squared_error: 44888.4023 - val_loss: 33603.1641 - val_root_mean_squared_error: 41913.9219\n",
            "Epoch 50/100\n",
            "25/25 [==============================] - 0s 5ms/step - loss: 37971.0547 - root_mean_squared_error: 47320.7422 - val_loss: 37232.0508 - val_root_mean_squared_error: 46648.3555\n",
            "Epoch 51/100\n",
            "25/25 [==============================] - 0s 6ms/step - loss: 35239.5156 - root_mean_squared_error: 44020.2539 - val_loss: 32096.7500 - val_root_mean_squared_error: 40004.3008\n",
            "Epoch 52/100\n",
            "25/25 [==============================] - 0s 5ms/step - loss: 34958.5234 - root_mean_squared_error: 44075.8984 - val_loss: 32770.9648 - val_root_mean_squared_error: 40949.8047\n",
            "Epoch 53/100\n",
            "25/25 [==============================] - 0s 5ms/step - loss: 35422.8672 - root_mean_squared_error: 44756.6289 - val_loss: 34899.6484 - val_root_mean_squared_error: 43516.0938\n",
            "Epoch 54/100\n",
            "25/25 [==============================] - 0s 5ms/step - loss: 35633.9805 - root_mean_squared_error: 44740.8555 - val_loss: 32599.3301 - val_root_mean_squared_error: 40474.6836\n",
            "Epoch 55/100\n",
            "25/25 [==============================] - 0s 3ms/step - loss: 34327.8438 - root_mean_squared_error: 43070.6094 - val_loss: 32384.6543 - val_root_mean_squared_error: 40355.9688\n",
            "Epoch 56/100\n",
            "25/25 [==============================] - 0s 3ms/step - loss: 36402.9297 - root_mean_squared_error: 45581.2617 - val_loss: 33062.6016 - val_root_mean_squared_error: 41405.0859\n",
            "Epoch 57/100\n",
            "25/25 [==============================] - 0s 3ms/step - loss: 35052.2344 - root_mean_squared_error: 44364.7148 - val_loss: 38393.3594 - val_root_mean_squared_error: 47574.6406\n",
            "Epoch 58/100\n",
            "25/25 [==============================] - 0s 4ms/step - loss: 36024.9180 - root_mean_squared_error: 44884.5469 - val_loss: 32822.4961 - val_root_mean_squared_error: 40872.3711\n",
            "Epoch 59/100\n",
            "25/25 [==============================] - 0s 4ms/step - loss: 33844.5664 - root_mean_squared_error: 42295.1836 - val_loss: 32898.5312 - val_root_mean_squared_error: 40936.2812\n",
            "Epoch 60/100\n",
            "25/25 [==============================] - 0s 3ms/step - loss: 35835.8672 - root_mean_squared_error: 44795.9922 - val_loss: 33163.7383 - val_root_mean_squared_error: 41325.2266\n",
            "Epoch 61/100\n",
            "25/25 [==============================] - 0s 4ms/step - loss: 34932.1484 - root_mean_squared_error: 43849.4453 - val_loss: 32901.2148 - val_root_mean_squared_error: 41316.2031\n",
            "Epoch 62/100\n",
            "25/25 [==============================] - 0s 4ms/step - loss: 34311.9180 - root_mean_squared_error: 43749.5430 - val_loss: 35007.0469 - val_root_mean_squared_error: 43827.0977\n",
            "Epoch 63/100\n",
            "25/25 [==============================] - 0s 3ms/step - loss: 35559.5156 - root_mean_squared_error: 44538.4375 - val_loss: 34256.1367 - val_root_mean_squared_error: 42664.5938\n",
            "Epoch 64/100\n",
            "25/25 [==============================] - 0s 3ms/step - loss: 33020.8594 - root_mean_squared_error: 41871.3008 - val_loss: 32044.6328 - val_root_mean_squared_error: 40026.4805\n",
            "Epoch 65/100\n",
            "25/25 [==============================] - 0s 3ms/step - loss: 36253.1133 - root_mean_squared_error: 45887.1992 - val_loss: 36526.8359 - val_root_mean_squared_error: 45601.8828\n",
            "Epoch 66/100\n",
            "25/25 [==============================] - 0s 3ms/step - loss: 34697.3867 - root_mean_squared_error: 43924.7227 - val_loss: 31567.8652 - val_root_mean_squared_error: 39430.5430\n",
            "Epoch 67/100\n",
            "25/25 [==============================] - 0s 3ms/step - loss: 35101.6992 - root_mean_squared_error: 44353.5234 - val_loss: 31376.8848 - val_root_mean_squared_error: 39281.5586\n",
            "Epoch 68/100\n",
            "25/25 [==============================] - 0s 3ms/step - loss: 34122.1758 - root_mean_squared_error: 43225.2070 - val_loss: 31596.1602 - val_root_mean_squared_error: 39798.2617\n",
            "Epoch 69/100\n",
            "25/25 [==============================] - 0s 3ms/step - loss: 33173.5508 - root_mean_squared_error: 42229.4688 - val_loss: 34069.1914 - val_root_mean_squared_error: 42381.8984\n",
            "Epoch 70/100\n",
            "25/25 [==============================] - 0s 4ms/step - loss: 33158.0664 - root_mean_squared_error: 42232.0000 - val_loss: 31757.1699 - val_root_mean_squared_error: 39524.5703\n",
            "Epoch 71/100\n",
            "25/25 [==============================] - 0s 3ms/step - loss: 33137.3008 - root_mean_squared_error: 42189.3867 - val_loss: 34163.0508 - val_root_mean_squared_error: 42568.5742\n",
            "Epoch 72/100\n",
            "25/25 [==============================] - 0s 3ms/step - loss: 34415.2188 - root_mean_squared_error: 43809.1484 - val_loss: 30860.8809 - val_root_mean_squared_error: 38806.7305\n",
            "Epoch 73/100\n",
            "25/25 [==============================] - 0s 4ms/step - loss: 32953.0234 - root_mean_squared_error: 41885.4062 - val_loss: 32127.3652 - val_root_mean_squared_error: 40075.3984\n",
            "Epoch 74/100\n",
            "25/25 [==============================] - 0s 3ms/step - loss: 33351.1641 - root_mean_squared_error: 42644.7148 - val_loss: 31094.1641 - val_root_mean_squared_error: 39230.6641\n",
            "Epoch 75/100\n",
            "25/25 [==============================] - 0s 3ms/step - loss: 31720.6641 - root_mean_squared_error: 41102.3633 - val_loss: 31122.4844 - val_root_mean_squared_error: 39283.8789\n",
            "Epoch 76/100\n",
            "25/25 [==============================] - 0s 3ms/step - loss: 33283.5859 - root_mean_squared_error: 42480.5820 - val_loss: 32083.7891 - val_root_mean_squared_error: 40433.7383\n",
            "Epoch 77/100\n",
            "25/25 [==============================] - 0s 3ms/step - loss: 32137.8730 - root_mean_squared_error: 41353.7266 - val_loss: 31358.4668 - val_root_mean_squared_error: 39295.2031\n",
            "Epoch 78/100\n",
            "25/25 [==============================] - 0s 3ms/step - loss: 32265.6758 - root_mean_squared_error: 41422.4453 - val_loss: 31364.6191 - val_root_mean_squared_error: 39284.2734\n",
            "Epoch 79/100\n",
            "25/25 [==============================] - 0s 3ms/step - loss: 31813.8945 - root_mean_squared_error: 40805.7539 - val_loss: 30392.5000 - val_root_mean_squared_error: 38351.1523\n",
            "Epoch 80/100\n",
            "25/25 [==============================] - 0s 3ms/step - loss: 33240.9258 - root_mean_squared_error: 43077.0078 - val_loss: 32010.6855 - val_root_mean_squared_error: 40217.9570\n",
            "Epoch 81/100\n",
            "25/25 [==============================] - 0s 3ms/step - loss: 32204.7070 - root_mean_squared_error: 41586.1289 - val_loss: 31025.2500 - val_root_mean_squared_error: 39116.9258\n",
            "Epoch 82/100\n",
            "25/25 [==============================] - 0s 3ms/step - loss: 35128.3125 - root_mean_squared_error: 44683.8789 - val_loss: 31438.5098 - val_root_mean_squared_error: 39320.6406\n",
            "Epoch 83/100\n",
            "25/25 [==============================] - 0s 3ms/step - loss: 32722.2949 - root_mean_squared_error: 41745.9883 - val_loss: 34163.2305 - val_root_mean_squared_error: 42742.4883\n",
            "Epoch 84/100\n",
            "25/25 [==============================] - 0s 4ms/step - loss: 31757.6230 - root_mean_squared_error: 40537.2695 - val_loss: 31067.6074 - val_root_mean_squared_error: 38992.3672\n",
            "Epoch 85/100\n",
            "25/25 [==============================] - 0s 3ms/step - loss: 34836.4453 - root_mean_squared_error: 44951.4219 - val_loss: 33005.3242 - val_root_mean_squared_error: 41351.3750\n",
            "Epoch 86/100\n",
            "25/25 [==============================] - 0s 4ms/step - loss: 32163.1523 - root_mean_squared_error: 41102.4414 - val_loss: 31883.1328 - val_root_mean_squared_error: 39816.9570\n",
            "Epoch 87/100\n",
            "25/25 [==============================] - 0s 3ms/step - loss: 31849.8867 - root_mean_squared_error: 41092.9219 - val_loss: 31454.8301 - val_root_mean_squared_error: 39556.2148\n",
            "Epoch 88/100\n",
            "25/25 [==============================] - 0s 4ms/step - loss: 31281.3125 - root_mean_squared_error: 40507.3711 - val_loss: 31538.7422 - val_root_mean_squared_error: 39691.2031\n",
            "Epoch 89/100\n",
            "25/25 [==============================] - 0s 3ms/step - loss: 31132.0332 - root_mean_squared_error: 40578.7695 - val_loss: 35730.5000 - val_root_mean_squared_error: 44799.7266\n",
            "Epoch 90/100\n",
            "25/25 [==============================] - 0s 3ms/step - loss: 35001.1914 - root_mean_squared_error: 44618.7891 - val_loss: 30964.7754 - val_root_mean_squared_error: 38951.4531\n",
            "Epoch 91/100\n",
            "25/25 [==============================] - 0s 3ms/step - loss: 32164.5879 - root_mean_squared_error: 41363.5547 - val_loss: 31151.1016 - val_root_mean_squared_error: 39223.8633\n",
            "Epoch 92/100\n",
            "25/25 [==============================] - 0s 3ms/step - loss: 33938.2188 - root_mean_squared_error: 43450.2617 - val_loss: 35521.2812 - val_root_mean_squared_error: 44124.6914\n",
            "Epoch 93/100\n",
            "25/25 [==============================] - 0s 3ms/step - loss: 30754.3555 - root_mean_squared_error: 39833.0938 - val_loss: 29787.5508 - val_root_mean_squared_error: 37611.0938\n",
            "Epoch 94/100\n",
            "25/25 [==============================] - 0s 3ms/step - loss: 34723.2695 - root_mean_squared_error: 43988.7109 - val_loss: 32431.9766 - val_root_mean_squared_error: 40774.1289\n",
            "Epoch 95/100\n",
            "25/25 [==============================] - 0s 3ms/step - loss: 31072.6406 - root_mean_squared_error: 40508.7578 - val_loss: 34651.6211 - val_root_mean_squared_error: 43739.7266\n",
            "Epoch 96/100\n",
            "25/25 [==============================] - 0s 4ms/step - loss: 31799.4883 - root_mean_squared_error: 41174.3867 - val_loss: 29598.4707 - val_root_mean_squared_error: 37830.8047\n",
            "Epoch 97/100\n",
            "25/25 [==============================] - 0s 3ms/step - loss: 34766.8516 - root_mean_squared_error: 44535.4062 - val_loss: 32647.2051 - val_root_mean_squared_error: 41270.5938\n",
            "Epoch 98/100\n",
            "25/25 [==============================] - 0s 4ms/step - loss: 30480.0625 - root_mean_squared_error: 39347.0938 - val_loss: 30843.0234 - val_root_mean_squared_error: 39052.6875\n",
            "Epoch 99/100\n",
            "25/25 [==============================] - 0s 3ms/step - loss: 30378.1973 - root_mean_squared_error: 39472.1562 - val_loss: 28731.5605 - val_root_mean_squared_error: 36575.1172\n",
            "Epoch 100/100\n",
            "25/25 [==============================] - 0s 4ms/step - loss: 30252.9395 - root_mean_squared_error: 39517.5352 - val_loss: 30656.0293 - val_root_mean_squared_error: 39624.3516\n"
          ]
        }
      ]
    },
    {
      "cell_type": "code",
      "source": [
        "history.history"
      ],
      "metadata": {
        "colab": {
          "base_uri": "https://localhost:8080/"
        },
        "id": "c6nO3zHvUXEW",
        "outputId": "12ec8029-0d00-47b2-8ec4-1a29b7f063e3"
      },
      "execution_count": 104,
      "outputs": [
        {
          "output_type": "execute_result",
          "data": {
            "text/plain": [
              "{'loss': [147958.375,\n",
              "  48469.328125,\n",
              "  43111.296875,\n",
              "  46106.171875,\n",
              "  44365.74609375,\n",
              "  40779.37109375,\n",
              "  45856.76171875,\n",
              "  39658.1796875,\n",
              "  42208.74609375,\n",
              "  37324.37890625,\n",
              "  39705.734375,\n",
              "  40187.4765625,\n",
              "  40177.55859375,\n",
              "  39837.765625,\n",
              "  46864.58984375,\n",
              "  37251.55859375,\n",
              "  42794.1015625,\n",
              "  37114.546875,\n",
              "  47690.37890625,\n",
              "  41121.1015625,\n",
              "  39546.5078125,\n",
              "  38326.2109375,\n",
              "  38705.078125,\n",
              "  37195.09375,\n",
              "  35506.94921875,\n",
              "  38662.3515625,\n",
              "  35903.80078125,\n",
              "  38093.96484375,\n",
              "  35810.1875,\n",
              "  37781.37109375,\n",
              "  38223.3984375,\n",
              "  35784.859375,\n",
              "  37774.2109375,\n",
              "  36303.96875,\n",
              "  38295.35546875,\n",
              "  36595.35546875,\n",
              "  35339.9375,\n",
              "  36532.84375,\n",
              "  35021.92578125,\n",
              "  35864.0390625,\n",
              "  39433.06640625,\n",
              "  35552.859375,\n",
              "  36054.2734375,\n",
              "  37829.171875,\n",
              "  35940.25,\n",
              "  36824.26171875,\n",
              "  34908.671875,\n",
              "  37893.953125,\n",
              "  35772.17578125,\n",
              "  37971.0546875,\n",
              "  35239.515625,\n",
              "  34958.5234375,\n",
              "  35422.8671875,\n",
              "  35633.98046875,\n",
              "  34327.84375,\n",
              "  36402.9296875,\n",
              "  35052.234375,\n",
              "  36024.91796875,\n",
              "  33844.56640625,\n",
              "  35835.8671875,\n",
              "  34932.1484375,\n",
              "  34311.91796875,\n",
              "  35559.515625,\n",
              "  33020.859375,\n",
              "  36253.11328125,\n",
              "  34697.38671875,\n",
              "  35101.69921875,\n",
              "  34122.17578125,\n",
              "  33173.55078125,\n",
              "  33158.06640625,\n",
              "  33137.30078125,\n",
              "  34415.21875,\n",
              "  32953.0234375,\n",
              "  33351.1640625,\n",
              "  31720.6640625,\n",
              "  33283.5859375,\n",
              "  32137.873046875,\n",
              "  32265.67578125,\n",
              "  31813.89453125,\n",
              "  33240.92578125,\n",
              "  32204.70703125,\n",
              "  35128.3125,\n",
              "  32722.294921875,\n",
              "  31757.623046875,\n",
              "  34836.4453125,\n",
              "  32163.15234375,\n",
              "  31849.88671875,\n",
              "  31281.3125,\n",
              "  31132.033203125,\n",
              "  35001.19140625,\n",
              "  32164.587890625,\n",
              "  33938.21875,\n",
              "  30754.35546875,\n",
              "  34723.26953125,\n",
              "  31072.640625,\n",
              "  31799.48828125,\n",
              "  34766.8515625,\n",
              "  30480.0625,\n",
              "  30378.197265625,\n",
              "  30252.939453125],\n",
              " 'root_mean_squared_error': [202420.046875,\n",
              "  60420.33984375,\n",
              "  54051.50390625,\n",
              "  57259.62890625,\n",
              "  55725.08203125,\n",
              "  51168.3984375,\n",
              "  57120.05859375,\n",
              "  50159.78125,\n",
              "  53688.7109375,\n",
              "  47064.7890625,\n",
              "  49756.02734375,\n",
              "  50466.9609375,\n",
              "  51130.76953125,\n",
              "  49966.26171875,\n",
              "  60047.72265625,\n",
              "  46461.27734375,\n",
              "  53898.1640625,\n",
              "  46837.578125,\n",
              "  60167.96875,\n",
              "  51605.92578125,\n",
              "  49126.1484375,\n",
              "  48119.1171875,\n",
              "  48537.203125,\n",
              "  46698.43359375,\n",
              "  45089.640625,\n",
              "  48199.08984375,\n",
              "  45224.921875,\n",
              "  47510.171875,\n",
              "  44849.96875,\n",
              "  47163.0703125,\n",
              "  48417.30078125,\n",
              "  44768.453125,\n",
              "  47819.2578125,\n",
              "  45216.125,\n",
              "  48172.40625,\n",
              "  45627.0625,\n",
              "  44351.2890625,\n",
              "  45047.55078125,\n",
              "  43742.99609375,\n",
              "  44387.125,\n",
              "  49545.49609375,\n",
              "  44338.64453125,\n",
              "  45231.25,\n",
              "  47008.00390625,\n",
              "  44889.4140625,\n",
              "  45717.875,\n",
              "  43215.875,\n",
              "  47541.73828125,\n",
              "  44888.40234375,\n",
              "  47320.7421875,\n",
              "  44020.25390625,\n",
              "  44075.8984375,\n",
              "  44756.62890625,\n",
              "  44740.85546875,\n",
              "  43070.609375,\n",
              "  45581.26171875,\n",
              "  44364.71484375,\n",
              "  44884.546875,\n",
              "  42295.18359375,\n",
              "  44795.9921875,\n",
              "  43849.4453125,\n",
              "  43749.54296875,\n",
              "  44538.4375,\n",
              "  41871.30078125,\n",
              "  45887.19921875,\n",
              "  43924.72265625,\n",
              "  44353.5234375,\n",
              "  43225.20703125,\n",
              "  42229.46875,\n",
              "  42232.0,\n",
              "  42189.38671875,\n",
              "  43809.1484375,\n",
              "  41885.40625,\n",
              "  42644.71484375,\n",
              "  41102.36328125,\n",
              "  42480.58203125,\n",
              "  41353.7265625,\n",
              "  41422.4453125,\n",
              "  40805.75390625,\n",
              "  43077.0078125,\n",
              "  41586.12890625,\n",
              "  44683.87890625,\n",
              "  41745.98828125,\n",
              "  40537.26953125,\n",
              "  44951.421875,\n",
              "  41102.44140625,\n",
              "  41092.921875,\n",
              "  40507.37109375,\n",
              "  40578.76953125,\n",
              "  44618.7890625,\n",
              "  41363.5546875,\n",
              "  43450.26171875,\n",
              "  39833.09375,\n",
              "  43988.7109375,\n",
              "  40508.7578125,\n",
              "  41174.38671875,\n",
              "  44535.40625,\n",
              "  39347.09375,\n",
              "  39472.15625,\n",
              "  39517.53515625],\n",
              " 'val_loss': [59618.96875,\n",
              "  49877.51953125,\n",
              "  49430.8984375,\n",
              "  55139.74609375,\n",
              "  40083.7734375,\n",
              "  38631.9296875,\n",
              "  38482.18359375,\n",
              "  40592.703125,\n",
              "  37009.0234375,\n",
              "  38156.4453125,\n",
              "  45021.484375,\n",
              "  37688.07421875,\n",
              "  42499.23046875,\n",
              "  37150.91015625,\n",
              "  38775.734375,\n",
              "  34792.87109375,\n",
              "  34422.05859375,\n",
              "  41011.38671875,\n",
              "  48179.375,\n",
              "  35290.59375,\n",
              "  37415.39453125,\n",
              "  36199.40234375,\n",
              "  35941.61328125,\n",
              "  34953.82421875,\n",
              "  38420.3125,\n",
              "  33351.21875,\n",
              "  36591.65625,\n",
              "  36025.34375,\n",
              "  36071.48828125,\n",
              "  33787.13671875,\n",
              "  34374.1640625,\n",
              "  32788.109375,\n",
              "  33805.25390625,\n",
              "  35263.74609375,\n",
              "  35782.05859375,\n",
              "  35296.296875,\n",
              "  32652.46484375,\n",
              "  34124.33203125,\n",
              "  34549.46484375,\n",
              "  37319.06640625,\n",
              "  37566.1015625,\n",
              "  33434.19921875,\n",
              "  34178.96484375,\n",
              "  33427.40625,\n",
              "  33996.3203125,\n",
              "  33872.80078125,\n",
              "  32294.748046875,\n",
              "  34173.875,\n",
              "  33603.1640625,\n",
              "  37232.05078125,\n",
              "  32096.75,\n",
              "  32770.96484375,\n",
              "  34899.6484375,\n",
              "  32599.330078125,\n",
              "  32384.654296875,\n",
              "  33062.6015625,\n",
              "  38393.359375,\n",
              "  32822.49609375,\n",
              "  32898.53125,\n",
              "  33163.73828125,\n",
              "  32901.21484375,\n",
              "  35007.046875,\n",
              "  34256.13671875,\n",
              "  32044.6328125,\n",
              "  36526.8359375,\n",
              "  31567.865234375,\n",
              "  31376.884765625,\n",
              "  31596.16015625,\n",
              "  34069.19140625,\n",
              "  31757.169921875,\n",
              "  34163.05078125,\n",
              "  30860.880859375,\n",
              "  32127.365234375,\n",
              "  31094.1640625,\n",
              "  31122.484375,\n",
              "  32083.7890625,\n",
              "  31358.466796875,\n",
              "  31364.619140625,\n",
              "  30392.5,\n",
              "  32010.685546875,\n",
              "  31025.25,\n",
              "  31438.509765625,\n",
              "  34163.23046875,\n",
              "  31067.607421875,\n",
              "  33005.32421875,\n",
              "  31883.1328125,\n",
              "  31454.830078125,\n",
              "  31538.7421875,\n",
              "  35730.5,\n",
              "  30964.775390625,\n",
              "  31151.1015625,\n",
              "  35521.28125,\n",
              "  29787.55078125,\n",
              "  32431.9765625,\n",
              "  34651.62109375,\n",
              "  29598.470703125,\n",
              "  32647.205078125,\n",
              "  30843.0234375,\n",
              "  28731.560546875,\n",
              "  30656.029296875],\n",
              " 'val_root_mean_squared_error': [72917.2890625,\n",
              "  61680.546875,\n",
              "  61103.0234375,\n",
              "  66771.53125,\n",
              "  49998.48046875,\n",
              "  47902.1171875,\n",
              "  47780.83203125,\n",
              "  50130.0546875,\n",
              "  46031.796875,\n",
              "  47828.35546875,\n",
              "  55570.03125,\n",
              "  46947.70703125,\n",
              "  52477.578125,\n",
              "  45986.04296875,\n",
              "  48126.3828125,\n",
              "  43134.71484375,\n",
              "  43111.57421875,\n",
              "  50833.92578125,\n",
              "  59485.03125,\n",
              "  43994.45703125,\n",
              "  46721.51953125,\n",
              "  44705.6171875,\n",
              "  44396.60546875,\n",
              "  43490.27734375,\n",
              "  47785.14453125,\n",
              "  41586.9140625,\n",
              "  45272.89453125,\n",
              "  44662.2265625,\n",
              "  44741.27734375,\n",
              "  41985.33203125,\n",
              "  42715.84765625,\n",
              "  40945.234375,\n",
              "  42142.3828125,\n",
              "  43636.2890625,\n",
              "  44370.37890625,\n",
              "  43795.16796875,\n",
              "  40728.4453125,\n",
              "  42124.9765625,\n",
              "  42721.96875,\n",
              "  46169.1875,\n",
              "  46555.90234375,\n",
              "  41295.7734375,\n",
              "  42315.5625,\n",
              "  41378.3203125,\n",
              "  42329.0390625,\n",
              "  41802.1953125,\n",
              "  40188.0234375,\n",
              "  42397.9609375,\n",
              "  41913.921875,\n",
              "  46648.35546875,\n",
              "  40004.30078125,\n",
              "  40949.8046875,\n",
              "  43516.09375,\n",
              "  40474.68359375,\n",
              "  40355.96875,\n",
              "  41405.0859375,\n",
              "  47574.640625,\n",
              "  40872.37109375,\n",
              "  40936.28125,\n",
              "  41325.2265625,\n",
              "  41316.203125,\n",
              "  43827.09765625,\n",
              "  42664.59375,\n",
              "  40026.48046875,\n",
              "  45601.8828125,\n",
              "  39430.54296875,\n",
              "  39281.55859375,\n",
              "  39798.26171875,\n",
              "  42381.8984375,\n",
              "  39524.5703125,\n",
              "  42568.57421875,\n",
              "  38806.73046875,\n",
              "  40075.3984375,\n",
              "  39230.6640625,\n",
              "  39283.87890625,\n",
              "  40433.73828125,\n",
              "  39295.203125,\n",
              "  39284.2734375,\n",
              "  38351.15234375,\n",
              "  40217.95703125,\n",
              "  39116.92578125,\n",
              "  39320.640625,\n",
              "  42742.48828125,\n",
              "  38992.3671875,\n",
              "  41351.375,\n",
              "  39816.95703125,\n",
              "  39556.21484375,\n",
              "  39691.203125,\n",
              "  44799.7265625,\n",
              "  38951.453125,\n",
              "  39223.86328125,\n",
              "  44124.69140625,\n",
              "  37611.09375,\n",
              "  40774.12890625,\n",
              "  43739.7265625,\n",
              "  37830.8046875,\n",
              "  41270.59375,\n",
              "  39052.6875,\n",
              "  36575.1171875,\n",
              "  39624.3515625]}"
            ]
          },
          "metadata": {},
          "execution_count": 104
        }
      ]
    },
    {
      "cell_type": "code",
      "source": [
        "plt.plot(history.history['loss'])\n",
        "plt.plot(history.history['val_loss'])\n",
        "plt.title('Model Loss')\n",
        "plt.xlabel('epoch')\n",
        "plt.ylabel('Loss')\n",
        "plt.legend(['train','val_loss'])\n",
        "plt.show()"
      ],
      "metadata": {
        "colab": {
          "base_uri": "https://localhost:8080/",
          "height": 472
        },
        "id": "8iSRmCUJWR_4",
        "outputId": "755653c5-5ac8-4eb6-b579-d67e713288f3"
      },
      "execution_count": 105,
      "outputs": [
        {
          "output_type": "display_data",
          "data": {
            "text/plain": [
              "<Figure size 640x480 with 1 Axes>"
            ],
            "image/png": "[encoded data removed]"
          },
          "metadata": {}
        }
      ]
    },
    {
      "cell_type": "code",
      "source": [
        "plt.plot(history.history['root_mean_squared_error'])\n",
        "plt.plot(history.history['val_root_mean_squared_error'])\n",
        "plt.title('Model Performance')\n",
        "plt.xlabel('epoch')\n",
        "plt.ylabel('Loss')\n",
        "plt.legend(['train','val_loss'])\n",
        "plt.show()"
      ],
      "metadata": {
        "colab": {
          "base_uri": "https://localhost:8080/",
          "height": 472
        },
        "id": "CdsA_L6IWxaL",
        "outputId": "48fec0d4-6d1b-4601-c5be-6b23dc2d954a"
      },
      "execution_count": 106,
      "outputs": [
        {
          "output_type": "display_data",
          "data": {
            "text/plain": [
              "<Figure size 640x480 with 1 Axes>"
            ],
            "image/png": "[encoded data removed]"
          },
          "metadata": {}
        }
      ]
    },
    {
      "cell_type": "code",
      "source": [
        "model.evaluate(X_test,y_test)"
      ],
      "metadata": {
        "colab": {
          "base_uri": "https://localhost:8080/"
        },
        "id": "Y0LZBx6bZQtV",
        "outputId": "3ebd3355-c508-4231-8e9c-63034564eb7d"
      },
      "execution_count": 107,
      "outputs": [
        {
          "output_type": "stream",
          "name": "stdout",
          "text": [
            "4/4 [==============================] - 1s 5ms/step - loss: 43295.8594 - root_mean_squared_error: 51424.3320\n"
          ]
        },
        {
          "output_type": "execute_result",
          "data": {
            "text/plain": [
              "[43295.859375, 51424.33203125]"
            ]
          },
          "metadata": {},
          "execution_count": 107
        }
      ]
    },
    {
      "cell_type": "code",
      "source": [
        "model.predict(tf.expand_dims( X_test[0], axis = 0))"
      ],
      "metadata": {
        "colab": {
          "base_uri": "https://localhost:8080/"
        },
        "id": "7L7VtfCOZsJA",
        "outputId": "29c56727-c582-4c09-e720-0d2e866054ca"
      },
      "execution_count": 108,
      "outputs": [
        {
          "output_type": "stream",
          "name": "stdout",
          "text": [
            "1/1 [==============================] - 0s 73ms/step\n"
          ]
        },
        {
          "output_type": "execute_result",
          "data": {
            "text/plain": [
              "array([[142560.88]], dtype=float32)"
            ]
          },
          "metadata": {},
          "execution_count": 108
        }
      ]
    },
    {
      "cell_type": "code",
      "source": [
        "y_test[0]"
      ],
      "metadata": {
        "colab": {
          "base_uri": "https://localhost:8080/"
        },
        "id": "hTPRY1prfOb_",
        "outputId": "9527f1ba-55a9-4133-b506-0c8fc5b4a26d"
      },
      "execution_count": 27,
      "outputs": [
        {
          "output_type": "execute_result",
          "data": {
            "text/plain": [
              "<tf.Tensor: shape=(1,), dtype=float32, numpy=array([379566.], dtype=float32)>"
            ]
          },
          "metadata": {},
          "execution_count": 27
        }
      ]
    },
    {
      "cell_type": "code",
      "source": [
        "y_true = list(y_test[:,0].numpy())"
      ],
      "metadata": {
        "id": "sspbCUzTgIxk"
      },
      "execution_count": 28,
      "outputs": []
    },
    {
      "cell_type": "code",
      "source": [
        "y_pred = list(model.predict(X_test)[:,0])\n",
        "print(y_pred)"
      ],
      "metadata": {
        "colab": {
          "base_uri": "https://localhost:8080/"
        },
        "id": "2_qWpJzOiMW-",
        "outputId": "e1cfd636-451a-4602-ec45-97bf25547957"
      },
      "execution_count": 65,
      "outputs": [
        {
          "output_type": "stream",
          "name": "stdout",
          "text": [
            "4/4 [==============================] - 0s 3ms/step\n",
            "[311910.88, 520898.66, 422139.4, 193538.72, 345786.5, 168764.64, 157578.86, 266534.62, 285585.56, 471002.47, 382867.75, 105614.7, 268595.7, 109155.44, 60846.87, 542012.0, 395641.78, 453258.3, 396672.78, 332283.06, 232761.58, 526765.06, 255037.02, 263022.9, 580208.75, 508187.34, 471486.16, 508631.66, 313119.8, 509784.56, 142721.45, 406573.75, 477516.53, 146643.19, 560178.56, 444171.8, 424739.8, 280882.75, 482931.53, 522356.38, 326122.44, 138625.08, 183758.7, 296503.44, 384188.0, 196396.84, 324070.84, 437976.03, 237493.72, 360490.0, 309350.75, 336025.38, 444389.0, 357107.06, 173302.36, 524594.25, 490451.84, 323949.44, 331688.38, 445537.88, 209711.36, 485094.94, 514533.88, 352893.8, 467027.22, 338685.88, 521628.06, 335541.38, 259492.89, 297630.12, 438755.1, 123707.17, 534266.25, 470243.47, 170264.64, 182295.61, 370503.9, 117306.71, 383593.56, 130051.16, 229642.88, 478410.8, 345623.72, 395139.56, 543031.7, 194077.45, 508029.72, 119083.664, 189230.17, 433315.94, 159207.8, 274482.2, 196615.55, 300612.25, 471780.9, 238359.27, 223300.64, 509972.56, 381458.44, 545707.25]\n"
          ]
        }
      ]
    },
    {
      "cell_type": "code",
      "source": [
        "ind = np.arange(100)\n",
        "plt.figure(figsize=(40,20))\n",
        "width = 0.4\n",
        "plt.bar(ind, y_pred, width, label =\"Predicted Car Price\")\n",
        "plt.bar(ind + width, y_true,width,label=\"Atual Car Price\")\n",
        "plt.xlabel(\"ACtual vs Predicted Prices\")\n",
        "plt.ylabel(\"CAR Price Prices\")\n",
        "plt.show()"
      ],
      "metadata": {
        "colab": {
          "base_uri": "https://localhost:8080/",
          "height": 745
        },
        "id": "XYaYBUpoiclh",
        "outputId": "7e07dd03-f17e-44f9-ec4a-66832cb467e5"
      },
      "execution_count": 109,
      "outputs": [
        {
          "output_type": "display_data",
          "data": {
            "text/plain": [
              "<Figure size 4000x2000 with 1 Axes>"
            ],
            "image/png": "[encoded data removed]"
          },
          "metadata": {}
        }
      ]
    },
    {
      "cell_type": "code",
      "source": [],
      "metadata": {
        "id": "YtAdbngXjeqU"
      },
      "execution_count": null,
      "outputs": []
    }
  ]
}